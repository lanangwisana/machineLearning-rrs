{
 "cells": [
  {
   "cell_type": "code",
   "execution_count": 1,
   "metadata": {},
   "outputs": [
    {
     "name": "stdout",
     "output_type": "stream",
     "text": [
      "Requirement already satisfied: pandas in c:\\users\\ary\\appdata\\local\\programs\\python\\python312\\lib\\site-packages (2.2.3)\n",
      "Requirement already satisfied: numpy>=1.26.0 in c:\\users\\ary\\appdata\\local\\programs\\python\\python312\\lib\\site-packages (from pandas) (2.1.3)\n",
      "Requirement already satisfied: python-dateutil>=2.8.2 in c:\\users\\ary\\appdata\\roaming\\python\\python312\\site-packages (from pandas) (2.9.0.post0)\n",
      "Requirement already satisfied: pytz>=2020.1 in c:\\users\\ary\\appdata\\local\\programs\\python\\python312\\lib\\site-packages (from pandas) (2024.2)\n",
      "Requirement already satisfied: tzdata>=2022.7 in c:\\users\\ary\\appdata\\local\\programs\\python\\python312\\lib\\site-packages (from pandas) (2024.2)\n",
      "Requirement already satisfied: six>=1.5 in c:\\users\\ary\\appdata\\roaming\\python\\python312\\site-packages (from python-dateutil>=2.8.2->pandas) (1.16.0)\n",
      "Note: you may need to restart the kernel to use updated packages.\n"
     ]
    },
    {
     "name": "stderr",
     "output_type": "stream",
     "text": [
      "\n",
      "[notice] A new release of pip is available: 24.0 -> 24.3.1\n",
      "[notice] To update, run: python.exe -m pip install --upgrade pip\n"
     ]
    }
   ],
   "source": [
    "# Install pandas library\n",
    "\n",
    "%pip install pandas"
   ]
  },
  {
   "cell_type": "code",
   "execution_count": 2,
   "metadata": {},
   "outputs": [
    {
     "name": "stdout",
     "output_type": "stream",
     "text": [
      "Requirement already satisfied: pip in c:\\users\\ary\\appdata\\local\\programs\\python\\python312\\lib\\site-packages (24.0)\n",
      "Collecting pip\n",
      "  Downloading pip-24.3.1-py3-none-any.whl.metadata (3.7 kB)\n",
      "Collecting setuptools\n",
      "  Downloading setuptools-75.5.0-py3-none-any.whl.metadata (6.8 kB)\n",
      "Collecting wheel\n",
      "  Downloading wheel-0.45.0-py3-none-any.whl.metadata (2.3 kB)\n",
      "Downloading pip-24.3.1-py3-none-any.whl (1.8 MB)\n",
      "   ---------------------------------------- 0.0/1.8 MB ? eta -:--:--\n",
      "    --------------------------------------- 0.0/1.8 MB 991.0 kB/s eta 0:00:02\n",
      "   ----- ---------------------------------- 0.2/1.8 MB 3.0 MB/s eta 0:00:01\n",
      "   ---------------- ----------------------- 0.7/1.8 MB 6.7 MB/s eta 0:00:01\n",
      "   ---------------------------- ----------- 1.3/1.8 MB 8.2 MB/s eta 0:00:01\n",
      "   ---------------------------------------- 1.8/1.8 MB 9.7 MB/s eta 0:00:00\n",
      "Downloading setuptools-75.5.0-py3-none-any.whl (1.2 MB)\n",
      "   ---------------------------------------- 0.0/1.2 MB ? eta -:--:--\n",
      "   ------------------- -------------------- 0.6/1.2 MB 19.2 MB/s eta 0:00:01\n",
      "   -------------------------------------- - 1.2/1.2 MB 15.1 MB/s eta 0:00:01\n",
      "   ---------------------------------------- 1.2/1.2 MB 15.5 MB/s eta 0:00:00\n",
      "Downloading wheel-0.45.0-py3-none-any.whl (72 kB)\n",
      "   ---------------------------------------- 0.0/72.5 kB ? eta -:--:--\n",
      "   ---------------------------------------- 72.5/72.5 kB ? eta 0:00:00\n",
      "Installing collected packages: wheel, setuptools, pip\n",
      "  Attempting uninstall: pip\n",
      "    Found existing installation: pip 24.0\n",
      "    Uninstalling pip-24.0:\n",
      "      Successfully uninstalled pip-24.0\n",
      "Successfully installed pip-24.3.1 setuptools-75.5.0 wheel-0.45.0\n",
      "Note: you may need to restart the kernel to use updated packages.\n"
     ]
    },
    {
     "name": "stderr",
     "output_type": "stream",
     "text": [
      "  WARNING: The script wheel.exe is installed in 'c:\\Users\\Ary\\AppData\\Local\\Programs\\Python\\Python312\\Scripts' which is not on PATH.\n",
      "  Consider adding this directory to PATH or, if you prefer to suppress this warning, use --no-warn-script-location.\n",
      "  WARNING: The scripts pip.exe, pip3.12.exe and pip3.exe are installed in 'c:\\Users\\Ary\\AppData\\Local\\Programs\\Python\\Python312\\Scripts' which is not on PATH.\n",
      "  Consider adding this directory to PATH or, if you prefer to suppress this warning, use --no-warn-script-location.\n"
     ]
    }
   ],
   "source": [
    "%pip install -U pip setuptools wheel"
   ]
  },
  {
   "cell_type": "code",
   "execution_count": 5,
   "metadata": {},
   "outputs": [],
   "source": [
    "#Data loading/ Data manipulation\n",
    "import pandas as pd\n",
    "import numpy as np\n",
    "import spacy\n",
    "from spacy.training import Example\n",
    "import random\n"
   ]
  },
  {
   "cell_type": "code",
   "execution_count": 15,
   "metadata": {},
   "outputs": [
    {
     "data": {
      "text/html": [
       "<div>\n",
       "<style scoped>\n",
       "    .dataframe tbody tr th:only-of-type {\n",
       "        vertical-align: middle;\n",
       "    }\n",
       "\n",
       "    .dataframe tbody tr th {\n",
       "        vertical-align: top;\n",
       "    }\n",
       "\n",
       "    .dataframe thead th {\n",
       "        text-align: right;\n",
       "    }\n",
       "</style>\n",
       "<table border=\"1\" class=\"dataframe\">\n",
       "  <thead>\n",
       "    <tr style=\"text-align: right;\">\n",
       "      <th></th>\n",
       "      <th>ID</th>\n",
       "      <th>Resume_str</th>\n",
       "      <th>Resume_html</th>\n",
       "      <th>Category</th>\n",
       "    </tr>\n",
       "  </thead>\n",
       "  <tbody>\n",
       "    <tr>\n",
       "      <th>0</th>\n",
       "      <td>16852973</td>\n",
       "      <td>HR ADMINISTRATOR/MARKETING ASSOCIATE\\...</td>\n",
       "      <td>&lt;div class=\"fontsize fontface vmargins hmargin...</td>\n",
       "      <td>HR</td>\n",
       "    </tr>\n",
       "    <tr>\n",
       "      <th>1</th>\n",
       "      <td>22323967</td>\n",
       "      <td>HR SPECIALIST, US HR OPERATIONS      ...</td>\n",
       "      <td>&lt;div class=\"fontsize fontface vmargins hmargin...</td>\n",
       "      <td>HR</td>\n",
       "    </tr>\n",
       "    <tr>\n",
       "      <th>2</th>\n",
       "      <td>33176873</td>\n",
       "      <td>HR DIRECTOR       Summary      Over 2...</td>\n",
       "      <td>&lt;div class=\"fontsize fontface vmargins hmargin...</td>\n",
       "      <td>HR</td>\n",
       "    </tr>\n",
       "    <tr>\n",
       "      <th>3</th>\n",
       "      <td>27018550</td>\n",
       "      <td>HR SPECIALIST       Summary    Dedica...</td>\n",
       "      <td>&lt;div class=\"fontsize fontface vmargins hmargin...</td>\n",
       "      <td>HR</td>\n",
       "    </tr>\n",
       "    <tr>\n",
       "      <th>4</th>\n",
       "      <td>17812897</td>\n",
       "      <td>HR MANAGER         Skill Highlights  ...</td>\n",
       "      <td>&lt;div class=\"fontsize fontface vmargins hmargin...</td>\n",
       "      <td>HR</td>\n",
       "    </tr>\n",
       "    <tr>\n",
       "      <th>...</th>\n",
       "      <td>...</td>\n",
       "      <td>...</td>\n",
       "      <td>...</td>\n",
       "      <td>...</td>\n",
       "    </tr>\n",
       "    <tr>\n",
       "      <th>2479</th>\n",
       "      <td>99416532</td>\n",
       "      <td>RANK: SGT/E-5 NON- COMMISSIONED OFFIC...</td>\n",
       "      <td>&lt;div class=\"fontsize fontface vmargins hmargin...</td>\n",
       "      <td>AVIATION</td>\n",
       "    </tr>\n",
       "    <tr>\n",
       "      <th>2480</th>\n",
       "      <td>24589765</td>\n",
       "      <td>GOVERNMENT RELATIONS, COMMUNICATIONS ...</td>\n",
       "      <td>&lt;div class=\"fontsize fontface vmargins hmargin...</td>\n",
       "      <td>AVIATION</td>\n",
       "    </tr>\n",
       "    <tr>\n",
       "      <th>2481</th>\n",
       "      <td>31605080</td>\n",
       "      <td>GEEK SQUAD AGENT         Professional...</td>\n",
       "      <td>&lt;div class=\"fontsize fontface vmargins hmargin...</td>\n",
       "      <td>AVIATION</td>\n",
       "    </tr>\n",
       "    <tr>\n",
       "      <th>2482</th>\n",
       "      <td>21190805</td>\n",
       "      <td>PROGRAM DIRECTOR / OFFICE MANAGER    ...</td>\n",
       "      <td>&lt;div class=\"fontsize fontface vmargins hmargin...</td>\n",
       "      <td>AVIATION</td>\n",
       "    </tr>\n",
       "    <tr>\n",
       "      <th>2483</th>\n",
       "      <td>37473139</td>\n",
       "      <td>STOREKEEPER II       Professional Sum...</td>\n",
       "      <td>&lt;div class=\"fontsize fontface vmargins hmargin...</td>\n",
       "      <td>AVIATION</td>\n",
       "    </tr>\n",
       "  </tbody>\n",
       "</table>\n",
       "<p>2484 rows × 4 columns</p>\n",
       "</div>"
      ],
      "text/plain": [
       "            ID                                         Resume_str  \\\n",
       "0     16852973           HR ADMINISTRATOR/MARKETING ASSOCIATE\\...   \n",
       "1     22323967           HR SPECIALIST, US HR OPERATIONS      ...   \n",
       "2     33176873           HR DIRECTOR       Summary      Over 2...   \n",
       "3     27018550           HR SPECIALIST       Summary    Dedica...   \n",
       "4     17812897           HR MANAGER         Skill Highlights  ...   \n",
       "...        ...                                                ...   \n",
       "2479  99416532           RANK: SGT/E-5 NON- COMMISSIONED OFFIC...   \n",
       "2480  24589765           GOVERNMENT RELATIONS, COMMUNICATIONS ...   \n",
       "2481  31605080           GEEK SQUAD AGENT         Professional...   \n",
       "2482  21190805           PROGRAM DIRECTOR / OFFICE MANAGER    ...   \n",
       "2483  37473139           STOREKEEPER II       Professional Sum...   \n",
       "\n",
       "                                            Resume_html  Category  \n",
       "0     <div class=\"fontsize fontface vmargins hmargin...        HR  \n",
       "1     <div class=\"fontsize fontface vmargins hmargin...        HR  \n",
       "2     <div class=\"fontsize fontface vmargins hmargin...        HR  \n",
       "3     <div class=\"fontsize fontface vmargins hmargin...        HR  \n",
       "4     <div class=\"fontsize fontface vmargins hmargin...        HR  \n",
       "...                                                 ...       ...  \n",
       "2479  <div class=\"fontsize fontface vmargins hmargin...  AVIATION  \n",
       "2480  <div class=\"fontsize fontface vmargins hmargin...  AVIATION  \n",
       "2481  <div class=\"fontsize fontface vmargins hmargin...  AVIATION  \n",
       "2482  <div class=\"fontsize fontface vmargins hmargin...  AVIATION  \n",
       "2483  <div class=\"fontsize fontface vmargins hmargin...  AVIATION  \n",
       "\n",
       "[2484 rows x 4 columns]"
      ]
     },
     "execution_count": 15,
     "metadata": {},
     "output_type": "execute_result"
    }
   ],
   "source": [
    "# Load dataset\n",
    "file_path = 'assets/dataset/Resume.csv'\n",
    "df = pd.read_csv(file_path)\n",
    "df"
   ]
  },
  {
   "cell_type": "code",
   "execution_count": 19,
   "metadata": {},
   "outputs": [],
   "source": [
    "def clean_annotations(text, entities):\n",
    "    \"\"\"Ensure that entity spans are clean and do not include leading/trailing spaces.\"\"\"\n",
    "    cleaned_entities = []\n",
    "    for start, end, label in entities:\n",
    "        # Trim leading/trailing whitespace\n",
    "        while start < len(text) and text[start].isspace():\n",
    "            start += 1\n",
    "        while end > 0 and text[end - 1].isspace():\n",
    "            end -= 1\n",
    "        # Append only if valid\n",
    "        if start < end:\n",
    "            cleaned_entities.append((start, end, label))\n",
    "    return cleaned_entities\n",
    "\n",
    "# Modify the TRAIN_DATA to clean entities\n",
    "TRAIN_DATA = []\n",
    "for index, row in df.iterrows():\n",
    "    text = row['Resume_str']\n",
    "    label = row['Category']\n",
    "    entities = [(0, len(text), \"JOB_CATEGORY\")]  # Modify this according to your actual needs\n",
    "    cleaned_entities = clean_annotations(text, entities)\n",
    "    if cleaned_entities:\n",
    "        TRAIN_DATA.append((text, {\"entities\": cleaned_entities}))\n"
   ]
  },
  {
   "cell_type": "code",
   "execution_count": 20,
   "metadata": {},
   "outputs": [],
   "source": [
    "# Create a blank spaCy model\n",
    "nlp = spacy.blank(\"en\")"
   ]
  },
  {
   "cell_type": "code",
   "execution_count": 21,
   "metadata": {},
   "outputs": [
    {
     "data": {
      "text/plain": [
       "1"
      ]
     },
     "execution_count": 21,
     "metadata": {},
     "output_type": "execute_result"
    }
   ],
   "source": [
    "# Add the NER pipeline if not present\n",
    "if \"ner\" not in nlp.pipe_names:\n",
    "    ner = nlp.add_pipe(\"ner\", last=True)\n",
    "else:\n",
    "    ner = nlp.get_pipe(\"ner\")\n",
    "\n",
    "# Add label to NER\n",
    "ner.add_label(\"JOB_CATEGORY\")"
   ]
  },
  {
   "cell_type": "code",
   "execution_count": 22,
   "metadata": {},
   "outputs": [
    {
     "name": "stdout",
     "output_type": "stream",
     "text": [
      "Iteration 0 - Losses: {'ner': np.float32(10839.023)}\n",
      "Iteration 1 - Losses: {'ner': np.float32(129.28738)}\n",
      "Iteration 2 - Losses: {'ner': np.float32(32.796448)}\n",
      "Iteration 3 - Losses: {'ner': np.float32(41.298805)}\n",
      "Iteration 4 - Losses: {'ner': np.float32(36.95062)}\n",
      "Iteration 5 - Losses: {'ner': np.float32(25.061316)}\n",
      "Iteration 6 - Losses: {'ner': np.float32(30.35422)}\n",
      "Iteration 7 - Losses: {'ner': np.float32(19.443224)}\n",
      "Iteration 8 - Losses: {'ner': np.float32(20.267483)}\n",
      "Iteration 9 - Losses: {'ner': np.float32(7.1316586)}\n"
     ]
    }
   ],
   "source": [
    "# Train the NER model\n",
    "optimizer = nlp.begin_training()\n",
    "for i in range(10):  # Number of iterations\n",
    "    random.shuffle(TRAIN_DATA)\n",
    "    losses = {}\n",
    "    for text, annotations in TRAIN_DATA:\n",
    "        doc = nlp.make_doc(text)\n",
    "        example = Example.from_dict(doc, annotations)\n",
    "        nlp.update([example], drop=0.5, losses=losses)\n",
    "    print(f\"Iteration {i} - Losses: {losses}\")"
   ]
  },
  {
   "cell_type": "code",
   "execution_count": 23,
   "metadata": {},
   "outputs": [
    {
     "name": "stdout",
     "output_type": "stream",
     "text": [
      "Model training completed and saved!\n"
     ]
    }
   ],
   "source": [
    "# Save the trained model\n",
    "nlp.to_disk(\"models\")\n",
    "print(\"Model training completed and saved!\")"
   ]
  }
 ],
 "metadata": {
  "kernelspec": {
   "display_name": "Python 3",
   "language": "python",
   "name": "python3"
  },
  "language_info": {
   "codemirror_mode": {
    "name": "ipython",
    "version": 3
   },
   "file_extension": ".py",
   "mimetype": "text/x-python",
   "name": "python",
   "nbconvert_exporter": "python",
   "pygments_lexer": "ipython3",
   "version": "3.12.4"
  }
 },
 "nbformat": 4,
 "nbformat_minor": 2
}

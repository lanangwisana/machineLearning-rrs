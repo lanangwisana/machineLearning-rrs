{
 "cells": [
  {
   "cell_type": "code",
   "execution_count": 1,
   "metadata": {},
   "outputs": [],
   "source": [
    "import pandas as pd\n",
    "from collections import defaultdict\n",
    "import spacy"
   ]
  },
  {
   "cell_type": "code",
   "execution_count": 34,
   "metadata": {},
   "outputs": [],
   "source": [
    "# Load dataset\n",
    "file_path = 'assets/dataset/Resume.csv'\n",
    "data = pd.read_csv(file_path)"
   ]
  },
  {
   "cell_type": "code",
   "execution_count": 35,
   "metadata": {},
   "outputs": [],
   "source": [
    "# Load spaCy model\n",
    "nlp = spacy.load(\".venv/Lib/site-packages/en_core_web_sm/en_core_web_sm-3.8.0\")"
   ]
  },
  {
   "cell_type": "code",
   "execution_count": null,
   "metadata": {},
   "outputs": [],
   "source": [
    "# Fungsi untuk mengekstrak keterampilan dari teks\n",
    "def extract_skills(text):\n",
    "    doc = nlp(text)\n",
    "    skills = []\n",
    "    for token in doc:\n",
    "        if token.pos_ in [\"NOUN\", \"PROPN\"] and not token.is_stop:  # Hanya mengambil kata benda dan proper noun\n",
    "            skills.append(token.text.lower())\n",
    "    return skills"
   ]
  },
  {
   "cell_type": "code",
   "execution_count": 37,
   "metadata": {},
   "outputs": [],
   "source": [
    "# Dictionary untuk mengelompokkan keterampilan berdasarkan kategori pekerjaan\n",
    "job_skills = defaultdict(list)"
   ]
  },
  {
   "cell_type": "code",
   "execution_count": 38,
   "metadata": {},
   "outputs": [],
   "source": [
    "# Proses setiap baris dalam dataset\n",
    "for index, row in data.iterrows():\n",
    "    category = row['Category']\n",
    "    resume_text = row['Resume_str']\n",
    "    \n",
    "    # Ekstrak keterampilan dari resume\n",
    "    skills = extract_skills(resume_text)\n",
    "    \n",
    "    # Tambahkan keterampilan ke kategori pekerjaan\n",
    "    job_skills[category].append(set(skills))"
   ]
  },
  {
   "cell_type": "code",
   "execution_count": 39,
   "metadata": {},
   "outputs": [],
   "source": [
    "# Membuat tabel baru untuk `Job Category` dan keterampilan\n",
    "job_table = []"
   ]
  },
  {
   "cell_type": "code",
   "execution_count": 43,
   "metadata": {},
   "outputs": [],
   "source": [
    "for category, skills_list in job_skills.items():\n",
    "    # Temukan keterampilan minimum (muncul di semua resume dalam kategori ini)\n",
    "    mandatory_skills = set.intersection(*skills_list) if len(skills_list) > 0 else set()\n",
    "    \n",
    "    # Temukan keterampilan tambahan (muncul di beberapa resume tetapi tidak semua)\n",
    "    all_skills = set.union(*skills_list)\n",
    "    additional_skills = all_skills - mandatory_skills\n",
    "    \n",
    "    # Tambahkan data ke tabel\n",
    "    job_table.append({\n",
    "        \"Job Category\": category,\n",
    "        \"Mandatory Skills\": list(mandatory_skills),\n",
    "        \"Additional Skills\": list(additional_skills)\n",
    "    })"
   ]
  },
  {
   "cell_type": "code",
   "execution_count": 44,
   "metadata": {},
   "outputs": [],
   "source": [
    "# Konversi tabel menjadi DataFrame\n",
    "job_df = pd.DataFrame(job_table)"
   ]
  },
  {
   "cell_type": "code",
   "execution_count": 45,
   "metadata": {},
   "outputs": [
    {
     "name": "stdout",
     "output_type": "stream",
     "text": [
      "Tabel job requirements berhasil disimpan ke Job_Category_Requirements.csv\n"
     ]
    }
   ],
   "source": [
    "# Simpan hasil ke file baru\n",
    "output_path = 'Job_Category_Requirements.csv'  # Simpan hanya sekali\n",
    "job_df.to_csv(output_path, index=False)\n",
    "print(f\"Tabel job requirements berhasil disimpan ke {output_path}\")"
   ]
  }
 ],
 "metadata": {
  "kernelspec": {
   "display_name": "Python 3",
   "language": "python",
   "name": "python3"
  },
  "language_info": {
   "codemirror_mode": {
    "name": "ipython",
    "version": 3
   },
   "file_extension": ".py",
   "mimetype": "text/x-python",
   "name": "python",
   "nbconvert_exporter": "python",
   "pygments_lexer": "ipython3",
   "version": "3.12.4"
  }
 },
 "nbformat": 4,
 "nbformat_minor": 2
}
